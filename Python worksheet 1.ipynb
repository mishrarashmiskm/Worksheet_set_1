{
 "cells": [
  {
   "cell_type": "markdown",
   "id": "a42e73c8",
   "metadata": {},
   "source": [
    "# 1- C\n",
    "\n",
    "2- C\n",
    "\n",
    "3- C\n",
    "\n",
    "4- A\n",
    "\n",
    "5- D\n",
    "\n",
    "6- C\n",
    "\n",
    "7- A\n",
    "\n",
    "8- C\n",
    "\n",
    "9- B, C\n",
    "\n",
    "10- A, B\n",
    "\n"
   ]
  },
  {
   "cell_type": "markdown",
   "id": "bfbc68bd",
   "metadata": {},
   "source": [
    "# 11. Write a python program to find the factorial of a number.\n"
   ]
  },
  {
   "cell_type": "code",
   "execution_count": 12,
   "id": "540fc81c",
   "metadata": {},
   "outputs": [],
   "source": [
    "a=5"
   ]
  },
  {
   "cell_type": "markdown",
   "id": "512c231f",
   "metadata": {},
   "source": [
    "a is intergeral value which helps to find factorial of number"
   ]
  },
  {
   "cell_type": "code",
   "execution_count": 13,
   "id": "6a6cba30",
   "metadata": {},
   "outputs": [
    {
     "data": {
      "text/plain": [
       "25"
      ]
     },
     "execution_count": 13,
     "metadata": {},
     "output_type": "execute_result"
    }
   ],
   "source": [
    "a*5"
   ]
  },
  {
   "cell_type": "code",
   "execution_count": 14,
   "id": "3d52ae5a",
   "metadata": {},
   "outputs": [],
   "source": [
    "b=8"
   ]
  },
  {
   "cell_type": "code",
   "execution_count": 15,
   "id": "c00021f4",
   "metadata": {},
   "outputs": [
    {
     "data": {
      "text/plain": [
       "2.0"
      ]
     },
     "execution_count": 15,
     "metadata": {},
     "output_type": "execute_result"
    }
   ],
   "source": [
    "b/4"
   ]
  },
  {
   "cell_type": "code",
   "execution_count": 16,
   "id": "706dfe1e",
   "metadata": {},
   "outputs": [
    {
     "data": {
      "text/plain": [
       "13"
      ]
     },
     "execution_count": 16,
     "metadata": {},
     "output_type": "execute_result"
    }
   ],
   "source": [
    "a+b"
   ]
  },
  {
   "cell_type": "code",
   "execution_count": 17,
   "id": "eb3a7c52",
   "metadata": {},
   "outputs": [
    {
     "data": {
      "text/plain": [
       "-3"
      ]
     },
     "execution_count": 17,
     "metadata": {},
     "output_type": "execute_result"
    }
   ],
   "source": [
    "a-b"
   ]
  },
  {
   "cell_type": "code",
   "execution_count": 19,
   "id": "36d37785",
   "metadata": {},
   "outputs": [
    {
     "data": {
      "text/plain": [
       "40"
      ]
     },
     "execution_count": 19,
     "metadata": {},
     "output_type": "execute_result"
    }
   ],
   "source": [
    "a*b"
   ]
  },
  {
   "cell_type": "code",
   "execution_count": 20,
   "id": "815ab203",
   "metadata": {},
   "outputs": [
    {
     "data": {
      "text/plain": [
       "0"
      ]
     },
     "execution_count": 20,
     "metadata": {},
     "output_type": "execute_result"
    }
   ],
   "source": [
    "a//b"
   ]
  },
  {
   "cell_type": "code",
   "execution_count": 21,
   "id": "9aca30aa",
   "metadata": {},
   "outputs": [
    {
     "data": {
      "text/plain": [
       "5"
      ]
     },
     "execution_count": 21,
     "metadata": {},
     "output_type": "execute_result"
    }
   ],
   "source": [
    "a%b"
   ]
  },
  {
   "cell_type": "code",
   "execution_count": null,
   "id": "ab736b39",
   "metadata": {},
   "outputs": [],
   "source": []
  },
  {
   "cell_type": "markdown",
   "id": "10153367",
   "metadata": {},
   "source": [
    "# 12- Number is prime or not"
   ]
  },
  {
   "cell_type": "code",
   "execution_count": null,
   "id": "539730d8",
   "metadata": {},
   "outputs": [],
   "source": [
    "y=int(input(\"enter any number\"))\n",
    "\n",
    "if y//2:\n",
    "    print(\"the number is even\")\n",
    "    \n",
    "else:\n",
    "    print(\"the number is composite\")"
   ]
  },
  {
   "cell_type": "markdown",
   "id": "9e2ea31b",
   "metadata": {},
   "source": [
    "# 14- Write a Python program to get the third side of right-angled triangle from two given sides.\n"
   ]
  },
  {
   "cell_type": "code",
   "execution_count": null,
   "id": "ec5d1648",
   "metadata": {},
   "outputs": [],
   "source": []
  }
 ],
 "metadata": {
  "kernelspec": {
   "display_name": "Python 3 (ipykernel)",
   "language": "python",
   "name": "python3"
  },
  "language_info": {
   "codemirror_mode": {
    "name": "ipython",
    "version": 3
   },
   "file_extension": ".py",
   "mimetype": "text/x-python",
   "name": "python",
   "nbconvert_exporter": "python",
   "pygments_lexer": "ipython3",
   "version": "3.9.12"
  }
 },
 "nbformat": 4,
 "nbformat_minor": 5
}
